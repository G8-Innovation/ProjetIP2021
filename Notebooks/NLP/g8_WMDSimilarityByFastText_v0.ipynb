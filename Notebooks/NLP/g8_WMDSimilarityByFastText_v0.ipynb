{
 "cells": [
  {
   "cell_type": "markdown",
   "metadata": {
    "id": "CdSjngfr4_EL"
   },
   "source": [
    "**Date :** Created on Thursday January 7 2021\n",
    "\n",
    "**Group 8 - Innovation**\n",
    "\n",
    "**WMDSimilarityByFastText_v0** \n",
    "\n",
    "**@author :** Melina Audiger. "
   ]
  },
  {
   "cell_type": "markdown",
   "metadata": {
    "id": "lrPX9eFe4LF4"
   },
   "source": [
    "**Description :** Word vectors (by FastText) are used  to calculate a vector for each article in order to calculate a WMD similarity between two articles. The save_art_similar function returns a Dataframe with the 10 most similar articles for each article with the corresponding score"
   ]
  },
  {
   "cell_type": "markdown",
   "metadata": {
    "id": "B_U3eN8TFqLI"
   },
   "source": [
    "**Note :** Our code works, however, it takes an enormous amount of time to perform calculations. Hence the fact that we did not launch the execution of the cells."
   ]
  },
  {
   "cell_type": "markdown",
   "metadata": {
    "id": "FVubm5MM5UhN"
   },
   "source": [
    "# Part 1 : Install / Download / Import Librairy"
   ]
  },
  {
   "cell_type": "markdown",
   "metadata": {
    "id": "JpbM764M5gvd"
   },
   "source": [
    "## Install librairy"
   ]
  },
  {
   "cell_type": "code",
   "execution_count": null,
   "metadata": {},
   "outputs": [],
   "source": [
    "#!pip install gensim"
   ]
  },
  {
   "cell_type": "markdown",
   "metadata": {
    "id": "T1dBOIsM589d"
   },
   "source": [
    "## Import librairy"
   ]
  },
  {
   "cell_type": "markdown",
   "metadata": {
    "id": "2fEGPuF36azi"
   },
   "source": [
    "### - Usefull librairy :"
   ]
  },
  {
   "cell_type": "code",
   "execution_count": 30,
   "metadata": {
    "id": "7uX5wsSc5OUG"
   },
   "outputs": [],
   "source": [
    "import pandas as pd\n",
    "from tqdm import trange\n",
    "from google.colab import drive"
   ]
  },
  {
   "cell_type": "markdown",
   "metadata": {
    "id": "Mj2eD12d7Ezd"
   },
   "source": [
    "### - Machine Learning librairy :"
   ]
  },
  {
   "cell_type": "code",
   "execution_count": 11,
   "metadata": {
    "id": "SJP2Bst87be7"
   },
   "outputs": [],
   "source": [
    "from gensim.models.keyedvectors import KeyedVectors"
   ]
  },
  {
   "cell_type": "markdown",
   "metadata": {
    "id": "idqyEEVw6tnV"
   },
   "source": [
    "# Part 2 : Initialization of the model : KeyedVectors"
   ]
  },
  {
   "cell_type": "code",
   "execution_count": 17,
   "metadata": {
    "colab": {
     "base_uri": "https://localhost:8080/"
    },
    "id": "6ZEF0B6DhH4B",
    "outputId": "e39263b4-09a2-4932-ec2d-2fc52aff35cc"
   },
   "outputs": [
    {
     "name": "stdout",
     "output_type": "stream",
     "text": [
      "Drive already mounted at /content/drive; to attempt to forcibly remount, call drive.mount(\"/content/drive\", force_remount=True).\n"
     ]
    }
   ],
   "source": [
    "# Connect the drive folder\n",
    "drive.mount('/content/drive')\n",
    "\n",
    "# My file path for the data\n",
    "Helper_path : str = '/content/drive/MyDrive/data_interpromo/G8 Innovation/cc.fr.300.vec'\n",
    "\n",
    "# My initialized model\n",
    "Model = KeyedVectors.load_word2vec_format(Helper_path)"
   ]
  },
  {
   "cell_type": "markdown",
   "metadata": {
    "id": "GV5o4q3QLmUc"
   },
   "source": [
    "# Part 3 : Data Loading"
   ]
  },
  {
   "cell_type": "code",
   "execution_count": 19,
   "metadata": {
    "id": "CPF6ReBqLkWg"
   },
   "outputs": [],
   "source": [
    "def Load_data(helper_path : str) -> pd.DataFrame:\n",
    "    \"\"\"Documentation\n",
    "    \n",
    "    Parameters :\n",
    "        - helper_path : the file path\n",
    "\n",
    "    Output (if exists) :\n",
    "        - df : My Dataframe cleaned and reindexed\n",
    "\n",
    "    \"\"\"\n",
    "    \n",
    "    # Data Load with pandas librairy\n",
    "    df = pd.read_csv(Helper_path)\n",
    "\n",
    "    # Drop articles with no content\n",
    "    df = df[df['art_content'] != '']\n",
    "\n",
    "    # Reset my dataframe index\n",
    "    df = df.reset_index(drop = True)\n",
    "    \n",
    "    # Returns my clean dataframe\n",
    "    return df"
   ]
  },
  {
   "cell_type": "code",
   "execution_count": 23,
   "metadata": {
    "colab": {
     "base_uri": "https://localhost:8080/",
     "height": 993
    },
    "id": "JstyhNooLyZK",
    "outputId": "df4f6860-54f2-490e-80c9-08ec266b567d"
   },
   "outputs": [
    {
     "data": {
      "text/html": [
       "<div>\n",
       "<style scoped>\n",
       "    .dataframe tbody tr th:only-of-type {\n",
       "        vertical-align: middle;\n",
       "    }\n",
       "\n",
       "    .dataframe tbody tr th {\n",
       "        vertical-align: top;\n",
       "    }\n",
       "\n",
       "    .dataframe thead th {\n",
       "        text-align: right;\n",
       "    }\n",
       "</style>\n",
       "<table border=\"1\" class=\"dataframe\">\n",
       "  <thead>\n",
       "    <tr style=\"text-align: right;\">\n",
       "      <th></th>\n",
       "      <th>art_id</th>\n",
       "      <th>art_content</th>\n",
       "      <th>art_content_html</th>\n",
       "      <th>art_extract_datetime</th>\n",
       "      <th>art_lang</th>\n",
       "      <th>art_title</th>\n",
       "      <th>art_url</th>\n",
       "      <th>src_name</th>\n",
       "      <th>src_type</th>\n",
       "      <th>src_url</th>\n",
       "      <th>src_img</th>\n",
       "      <th>art_auth</th>\n",
       "      <th>art_tag</th>\n",
       "      <th>art_clean</th>\n",
       "      <th>abstract_sentence</th>\n",
       "      <th>abstract_words</th>\n",
       "    </tr>\n",
       "  </thead>\n",
       "  <tbody>\n",
       "    <tr>\n",
       "      <th>0</th>\n",
       "      <td>1</td>\n",
       "      <td>le FNCDG et l’ andcdg avoir publier en septemb...</td>\n",
       "      <td>&lt;p style=\"text-align: justify;\"&gt;La FNCDG et l’...</td>\n",
       "      <td>22 septembre 2020</td>\n",
       "      <td>fr</td>\n",
       "      <td>9ème édition du Panorama de l’emploi territorial</td>\n",
       "      <td>http://fncdg.com/9eme-edition-du-panorama-de-l...</td>\n",
       "      <td>FNCDG</td>\n",
       "      <td>xpath_source</td>\n",
       "      <td>http://fncdg.com/actualites/</td>\n",
       "      <td>http://fncdg.com/wp-content/uploads/2020/09/im...</td>\n",
       "      <td>NaN</td>\n",
       "      <td>NaN</td>\n",
       "      <td>fncdg andcdg avoir publier septembre 9em editi...</td>\n",
       "      <td>fncdg andcdg avoir publier septembre 9em editi...</td>\n",
       "      <td>fncdg andcdg avoir publier septembre 9em editi...</td>\n",
       "    </tr>\n",
       "    <tr>\n",
       "      <th>1</th>\n",
       "      <td>2</td>\n",
       "      <td>malgré le levée un mesure de confinement le 11...</td>\n",
       "      <td>&lt;p style=\"text-align: justify;\"&gt;Malgré la levé...</td>\n",
       "      <td>17 mars 2020</td>\n",
       "      <td>fr</td>\n",
       "      <td>ACTUALITÉS FNCDG / COVID19</td>\n",
       "      <td>http://fncdg.com/actualites-covid19/</td>\n",
       "      <td>FNCDG</td>\n",
       "      <td>xpath_source</td>\n",
       "      <td>http://fncdg.com/actualites/</td>\n",
       "      <td>http://fncdg.com/wp-content/uploads/2020/03/co...</td>\n",
       "      <td>NaN</td>\n",
       "      <td>NaN</td>\n",
       "      <td>malgre levee mesure confinement 11 mai 2020 pl...</td>\n",
       "      <td>malgre levee mesure confinement 11 mai 2020 pl...</td>\n",
       "      <td>malgre levee mesure confinement 11 mai 2020 pl...</td>\n",
       "    </tr>\n",
       "    <tr>\n",
       "      <th>2</th>\n",
       "      <td>25</td>\n",
       "      <td>quel être le objectif poursuivre par le gouver...</td>\n",
       "      <td>&lt;p style=\"text-align: justify;\"&gt;&lt;strong&gt;Quels ...</td>\n",
       "      <td>24 octobre 2019</td>\n",
       "      <td>fr</td>\n",
       "      <td>Interview de M. Olivier DUSSOPT, Secretaire d’...</td>\n",
       "      <td>http://fncdg.com/interview-de-m-olivier-dussop...</td>\n",
       "      <td>FNCDG</td>\n",
       "      <td>xpath_source</td>\n",
       "      <td>http://fncdg.com/actualites/</td>\n",
       "      <td>http://fncdg.com/wp-content/uploads/2019/10/in...</td>\n",
       "      <td>NaN</td>\n",
       "      <td>NaN</td>\n",
       "      <td>quel etre objectif poursuivre gouvernement cad...</td>\n",
       "      <td>quel etre objectif poursuivre gouvernement cad...</td>\n",
       "      <td>quel etre objectif poursuivre gouvernement cad...</td>\n",
       "    </tr>\n",
       "    <tr>\n",
       "      <th>3</th>\n",
       "      <td>27</td>\n",
       "      <td>le journée thématique , qui avoir lieu durant ...</td>\n",
       "      <td>&lt;p style=\"text-align: justify;\"&gt;&lt;strong&gt;La  jo...</td>\n",
       "      <td>31 mai 2017</td>\n",
       "      <td>fr</td>\n",
       "      <td>Journée Thématique FNCDG « Les services de san...</td>\n",
       "      <td>http://fncdg.com/journee-thematique-fncdg-les-...</td>\n",
       "      <td>FNCDG</td>\n",
       "      <td>xpath_source</td>\n",
       "      <td>http://fncdg.com/actualites/</td>\n",
       "      <td>http://fncdg.com/wp-content/uploads/2017/05/pu...</td>\n",
       "      <td>NaN</td>\n",
       "      <td>NaN</td>\n",
       "      <td>journee thematique avoir lieu durant salon pre...</td>\n",
       "      <td>journee thematique avoir lieu durant salon pre...</td>\n",
       "      <td>journee thematique avoir lieu durant salon pre...</td>\n",
       "    </tr>\n",
       "    <tr>\n",
       "      <th>4</th>\n",
       "      <td>28</td>\n",
       "      <td>le 1ère journée thématique en région sur le th...</td>\n",
       "      <td>&lt;p style=\"text-align: justify;\"&gt;La 1&lt;sup&gt;ère&lt;/...</td>\n",
       "      <td>13 mars 2017</td>\n",
       "      <td>fr</td>\n",
       "      <td>Journée Thématique FNCDG « Vers de nouveaux mo...</td>\n",
       "      <td>http://fncdg.com/journee-thematique-fncdg-vers...</td>\n",
       "      <td>FNCDG</td>\n",
       "      <td>xpath_source</td>\n",
       "      <td>http://fncdg.com/actualites/</td>\n",
       "      <td>http://fncdg.com/wp-content/uploads/2017/03/Sa...</td>\n",
       "      <td>NaN</td>\n",
       "      <td>NaN</td>\n",
       "      <td>1ere journee thematique region theme vers nouv...</td>\n",
       "      <td>1ere journee thematique region theme vers nouv...</td>\n",
       "      <td>1ere journee thematique region theme vers nouv...</td>\n",
       "    </tr>\n",
       "    <tr>\n",
       "      <th>5</th>\n",
       "      <td>30</td>\n",
       "      <td>l’ un un innovation de le loi n degré 2019 - 8...</td>\n",
       "      <td>&lt;p style=\"text-align: justify;\"&gt;L’une des inno...</td>\n",
       "      <td>22 octobre 2020</td>\n",
       "      <td>fr</td>\n",
       "      <td>La publication d’un guide d’accompagnement à l...</td>\n",
       "      <td>http://fncdg.com/la-publication-dun-guide-dacc...</td>\n",
       "      <td>FNCDG</td>\n",
       "      <td>xpath_source</td>\n",
       "      <td>http://fncdg.com/actualites/</td>\n",
       "      <td>http://fncdg.com/wp-content/uploads/2020/10/LG...</td>\n",
       "      <td>NaN</td>\n",
       "      <td>NaN</td>\n",
       "      <td>innovation loi degre 2019 828 6 aout 2019 dire...</td>\n",
       "      <td>innovation loi degre 2019 828 6 aout 2019 dire...</td>\n",
       "      <td>innovation loi degre 2019 828 6 aout 2019 dire...</td>\n",
       "    </tr>\n",
       "    <tr>\n",
       "      <th>6</th>\n",
       "      <td>31</td>\n",
       "      <td>le FNCDG mener , en collaboration avec d’ autr...</td>\n",
       "      <td>&lt;p style=\"text-align: justify;\"&gt;La FNCDG mène,...</td>\n",
       "      <td>10 décembre 2020</td>\n",
       "      <td>fr</td>\n",
       "      <td>La publication d’un guide de sensibilisation a...</td>\n",
       "      <td>http://fncdg.com/la-publication-dun-guide-de-s...</td>\n",
       "      <td>FNCDG</td>\n",
       "      <td>xpath_source</td>\n",
       "      <td>http://fncdg.com/actualites/</td>\n",
       "      <td>http://fncdg.com/wp-content/uploads/2020/12/im...</td>\n",
       "      <td>NaN</td>\n",
       "      <td>NaN</td>\n",
       "      <td>fncdg mener collaboration autre partenaire cam...</td>\n",
       "      <td>fncdg mener collaboration autre partenaire cam...</td>\n",
       "      <td>fncdg mener collaboration autre partenaire cam...</td>\n",
       "    </tr>\n",
       "    <tr>\n",
       "      <th>7</th>\n",
       "      <td>32</td>\n",
       "      <td>créer pour et par le décideur territorial , ét...</td>\n",
       "      <td>&lt;p style=\"text-align: justify;\"&gt;Créé pour et p...</td>\n",
       "      <td>24 février 2017</td>\n",
       "      <td>fr</td>\n",
       "      <td>Lancement du réseau Étoile</td>\n",
       "      <td>http://fncdg.com/lancement-du-reseau-etoile/</td>\n",
       "      <td>FNCDG</td>\n",
       "      <td>xpath_source</td>\n",
       "      <td>http://fncdg.com/actualites/</td>\n",
       "      <td>http://fncdg.com/wp-content/uploads/2017/02/re...</td>\n",
       "      <td>NaN</td>\n",
       "      <td>NaN</td>\n",
       "      <td>creer decideur territorial etoile etre tout pr...</td>\n",
       "      <td>creer decideur territorial etoile etre tout pr...</td>\n",
       "      <td>creer decideur territorial etoile etre tout pr...</td>\n",
       "    </tr>\n",
       "    <tr>\n",
       "      <th>8</th>\n",
       "      <td>34</td>\n",
       "      <td>le décret n degré 2017 - 397 et n degré 2017 -...</td>\n",
       "      <td>&lt;p style=\"text-align: justify;\"&gt;Les décrets n°...</td>\n",
       "      <td>5 avril 2017</td>\n",
       "      <td>fr</td>\n",
       "      <td>Le cadre d’emplois des agents de police munici...</td>\n",
       "      <td>http://fncdg.com/le-cadre-demplois-des-agents-...</td>\n",
       "      <td>FNCDG</td>\n",
       "      <td>xpath_source</td>\n",
       "      <td>http://fncdg.com/actualites/</td>\n",
       "      <td>http://fncdg.com/wp-content/uploads/2017/04/po...</td>\n",
       "      <td>NaN</td>\n",
       "      <td>NaN</td>\n",
       "      <td>decret degre 2017 397 degre 2017 318 24 mars 2...</td>\n",
       "      <td>decret degre 2017 397 degre 2017 318 24 mars 2...</td>\n",
       "      <td>decret degre 2017 397 degre 2017 318 24 mars 2...</td>\n",
       "    </tr>\n",
       "    <tr>\n",
       "      <th>9</th>\n",
       "      <td>35</td>\n",
       "      <td>un candidat à un examen professionnel organise...</td>\n",
       "      <td>&lt;p style=\"text-align: justify;\"&gt;Une candidate ...</td>\n",
       "      <td>6 juillet 2017</td>\n",
       "      <td>fr</td>\n",
       "      <td>Le Conseil d’Etat confirme la souveraineté des...</td>\n",
       "      <td>http://fncdg.com/le-conseil-detat-confirme-la-...</td>\n",
       "      <td>FNCDG</td>\n",
       "      <td>xpath_source</td>\n",
       "      <td>http://fncdg.com/actualites/</td>\n",
       "      <td>http://fncdg.com/wp-content/uploads/2017/07/Co...</td>\n",
       "      <td>NaN</td>\n",
       "      <td>NaN</td>\n",
       "      <td>candidat a examen professionnel organiser cent...</td>\n",
       "      <td>candidat a examen professionnel organiser cent...</td>\n",
       "      <td>candidat a examen professionnel organiser cent...</td>\n",
       "    </tr>\n",
       "  </tbody>\n",
       "</table>\n",
       "</div>"
      ],
      "text/plain": [
       "   art_id  ...                                     abstract_words\n",
       "0       1  ...  fncdg andcdg avoir publier septembre 9em editi...\n",
       "1       2  ...  malgre levee mesure confinement 11 mai 2020 pl...\n",
       "2      25  ...  quel etre objectif poursuivre gouvernement cad...\n",
       "3      27  ...  journee thematique avoir lieu durant salon pre...\n",
       "4      28  ...  1ere journee thematique region theme vers nouv...\n",
       "5      30  ...  innovation loi degre 2019 828 6 aout 2019 dire...\n",
       "6      31  ...  fncdg mener collaboration autre partenaire cam...\n",
       "7      32  ...  creer decideur territorial etoile etre tout pr...\n",
       "8      34  ...  decret degre 2017 397 degre 2017 318 24 mars 2...\n",
       "9      35  ...  candidat a examen professionnel organiser cent...\n",
       "\n",
       "[10 rows x 16 columns]"
      ]
     },
     "execution_count": 23,
     "metadata": {
      "tags": []
     },
     "output_type": "execute_result"
    }
   ],
   "source": [
    "# My file path for the fonction\n",
    "Helper_path : str = '/content/drive/MyDrive/data_interpromo/Data/abstract_v1.csv'\n",
    "\n",
    "# My DataFrame variable\n",
    "My_data : pd.DataFrame = Load_data(Helper_path)\n",
    "\n",
    "# To show my DataFrame\n",
    "My_data.head(10)"
   ]
  },
  {
   "cell_type": "markdown",
   "metadata": {
    "id": "KX3DTA1ONfhy"
   },
   "source": [
    "# Part 4 : Detection of similar articles"
   ]
  },
  {
   "cell_type": "code",
   "execution_count": 37,
   "metadata": {
    "id": "ARxYojiZT_7i"
   },
   "outputs": [],
   "source": [
    "def Save_articles_similar(df_id, df_art_clean, nb_similar: int) -> pd.DataFrame:\n",
    "    \"\"\"Documentation\n",
    "  \n",
    "    Parameters :\n",
    "      - df_id : identification of article\n",
    "      - df_art_clean : coordinates of article\n",
    "      - nb_similar : number of article similar to save\n",
    "  \n",
    "    Output (if exists) :\n",
    "      - df_art_similar : My list of similars article for everyone\n",
    "  \n",
    "    \"\"\"\n",
    "\n",
    "    # My personnal list\n",
    "    df_columns : list = ['art_id','art_sim','score']\n",
    "\n",
    "    # My initialized DataFrame\n",
    "    df_art_similar : pd.DataFrame = pd.DataFrame(columns = df_columns)\n",
    "\n",
    "    # Step 1 : Browse all the article\n",
    "    for i in trange(len(df_id) , position = 0 , leave = True):\n",
    "    \n",
    "        # My initialized list\n",
    "        list_similar : list = []\n",
    "\n",
    "        # Step 2 : Browse other article for an article\n",
    "        for j in range(len(df_id)):\n",
    "      \n",
    "            # Check difference \n",
    "            if i != j:\n",
    "\n",
    "                # My first item \n",
    "                item_1 : list = df_art_clean[i].lower().split()\n",
    "\n",
    "                # My second item\n",
    "                item_2 : list = df_art_clean[j].lower().split()\n",
    "\n",
    "                # Distance calcul \n",
    "                distance_items : float = Model.wmdistance(item_1, item_2)\n",
    "\n",
    "                # Retrieving the identifier\n",
    "                df_id_j : int = df_id[j]\n",
    "\n",
    "                # Save the similarity\n",
    "                list_similar.append([df_id_j, distance_items])\n",
    "\n",
    "        # Check if too many similar items\n",
    "        if len(list_similar) > nb_similar:\n",
    "\n",
    "            # Collapse the list\n",
    "            list_similar = sorted(list_similar, \\\n",
    "                            key = operator.itemgetter(1))[0:nb_similar]\n",
    "\n",
    "        # Step 3 : Save similar articles and score \n",
    "        for listing in list_similar:\n",
    "\n",
    "            # Retrieving the identifier\n",
    "            df_id_i : int = df_id[i]\n",
    "\n",
    "            # Retrieving similarities list\n",
    "            sim_list : int = listing[0]\n",
    "      \n",
    "            # Retrieving score\n",
    "            sim_score : float = listing[1]\n",
    "      \n",
    "            # List creation\n",
    "            df_art_similar = df_art_similar.append({'art_id' : df_id_i, \\\n",
    "                                                    'art_sim' : sim_list, \\\n",
    "                                                    'score' : sim_score}, \\\n",
    "                                                    ignore_index = True)\n",
    "\n",
    "    # Delete infinity values\n",
    "    df_art_similar = df_art_similar.drop(df_art_similar[df_art_similar['score'] == np.inf].index)\n",
    "\n",
    "    # Change of type \n",
    "    df_art_similar['art_id'] = df_art_similar['art_id'].astype('long')\n",
    "    df_art_similar['art_sim'] = df_art_similar['art_sim'].astype('long')\n",
    "\n",
    "    # Return my similarity DataFrame\n",
    "    return df_art_similar"
   ]
  },
  {
   "cell_type": "code",
   "execution_count": null,
   "metadata": {
    "id": "OiJitT17xEI9"
   },
   "outputs": [],
   "source": [
    "# Fonction Application\n",
    "Df_art_similar = Save_articles_similar(My_data['art_id'], My_data['art_clean'], 10)"
   ]
  },
  {
   "cell_type": "markdown",
   "metadata": {
    "id": "foeN6BukWdsh"
   },
   "source": [
    "# Part 5 : Export data"
   ]
  },
  {
   "cell_type": "code",
   "execution_count": null,
   "metadata": {
    "id": "WazLP5MuxNtq"
   },
   "outputs": [],
   "source": [
    "# The .csv export data\n",
    "Df_art_similar.to_csv('article_similar.csv', index = False, encoding = 'utf-8')"
   ]
  }
 ],
 "metadata": {
  "colab": {
   "collapsed_sections": [],
   "name": "g8_WMDSimilarityByFastText_v0.ipynb",
   "provenance": [],
   "toc_visible": true
  },
  "kernelspec": {
   "display_name": "Python 3",
   "language": "python",
   "name": "python3"
  },
  "language_info": {
   "codemirror_mode": {
    "name": "ipython",
    "version": 3
   },
   "file_extension": ".py",
   "mimetype": "text/x-python",
   "name": "python",
   "nbconvert_exporter": "python",
   "pygments_lexer": "ipython3",
   "version": "3.6.9"
  }
 },
 "nbformat": 4,
 "nbformat_minor": 1
}
