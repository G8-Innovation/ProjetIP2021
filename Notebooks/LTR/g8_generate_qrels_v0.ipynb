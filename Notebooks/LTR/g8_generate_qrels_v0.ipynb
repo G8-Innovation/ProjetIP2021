{
 "cells": [
  {
   "cell_type": "markdown",
   "metadata": {
    "id": "j6VXWI0nxTAF"
   },
   "source": [
    "**Date :** Created on Tuesday January 12 2021\n",
    "\n",
    "**Group 8 - Innovation**\n",
    "\n",
    "**generate_qrels_learning_to_rank_v0** \n",
    "\n",
    "**@author :** Katia Belaid, Jordi Mora Fernandez, Célya Marcélo. "
   ]
  },
  {
   "cell_type": "markdown",
   "metadata": {
    "id": "sQxyKnn47oTW"
   },
   "source": [
    "**Description :** To summarise, this notebook generate qrels dataframe and use the experiment of the Learning to Rank\n",
    "\n",
    "The formulation of learning to rank pipelines in four phases :\n",
    "> 1. indexing and generating qrels with retrieval models\n",
    "> 2. identifying a candidate set of documents for each query\n",
    "> 3. computing extra features on these documents and applying Learning To Rank pipelines\n",
    "> 4. using a learned model to re-rank the candidate documents to obtain a more effective ranking.\n",
    "\n"
   ]
  },
  {
   "cell_type": "markdown",
   "metadata": {
    "id": "z1bdhhEvx0_8"
   },
   "source": [
    "# Part 1 : Install / Download / Import Librairy"
   ]
  },
  {
   "cell_type": "markdown",
   "metadata": {
    "id": "Ce62kH20x4Xc"
   },
   "source": [
    "## Install library"
   ]
  },
  {
   "cell_type": "code",
   "execution_count": 1,
   "metadata": {
    "id": "0WqYuzzYPExd"
   },
   "outputs": [],
   "source": [
    "#!pip install --upgrade git+https://github.com/terrier-org/pyterrier.git #egg=python-terrier"
   ]
  },
  {
   "cell_type": "markdown",
   "metadata": {
    "id": "Vd5rk4Bux_Mz"
   },
   "source": [
    "## Import library"
   ]
  },
  {
   "cell_type": "markdown",
   "metadata": {
    "id": "yKbXRR8fySbv"
   },
   "source": [
    "### - Useful library :"
   ]
  },
  {
   "cell_type": "code",
   "execution_count": 3,
   "metadata": {
    "collapsed": true,
    "id": "2e8w2Oetx8EL"
   },
   "outputs": [],
   "source": [
    "import pandas as pd\n",
    "import numpy as np\n",
    "import pickle\n",
    "from tqdm import trange\n",
    "from google.colab import drive"
   ]
  },
  {
   "cell_type": "markdown",
   "metadata": {
    "id": "L0oCVrC4y4l0"
   },
   "source": [
    "### - System library :"
   ]
  },
  {
   "cell_type": "code",
   "execution_count": 4,
   "metadata": {
    "collapsed": true,
    "id": "noInKY0Dy2vc"
   },
   "outputs": [],
   "source": [
    "import os"
   ]
  },
  {
   "cell_type": "markdown",
   "metadata": {
    "id": "W3kkZPdtySnD"
   },
   "source": [
    "### - Text library :"
   ]
  },
  {
   "cell_type": "code",
   "execution_count": 5,
   "metadata": {
    "collapsed": true,
    "id": "ka0A36RJy8-0"
   },
   "outputs": [],
   "source": [
    "import pyterrier as pt"
   ]
  },
  {
   "cell_type": "markdown",
   "metadata": {
    "id": "NTXpXnazySvk"
   },
   "source": [
    "### - Machine Learning Libraries :"
   ]
  },
  {
   "cell_type": "code",
   "execution_count": 6,
   "metadata": {
    "collapsed": true,
    "id": "mKbuFprEyRfT"
   },
   "outputs": [],
   "source": [
    "import lightgbm as lgb\n",
    "import xgboost as xgb\n",
    "from sklearn.feature_extraction.text import TfidfVectorizer\n",
    "from sklearn.model_selection import train_test_split\n",
    "from sklearn.ensemble import RandomForestRegressor"
   ]
  },
  {
   "cell_type": "markdown",
   "metadata": {
    "id": "z75YAD0GzMbd"
   },
   "source": [
    "# Part 2 : Data Loading"
   ]
  },
  {
   "cell_type": "code",
   "execution_count": 7,
   "metadata": {
    "collapsed": true,
    "id": "HzqMqvjczIh3"
   },
   "outputs": [],
   "source": [
    "def Load_data(helper_path: str) -> pd.DataFrame:\n",
    "    \"\"\"Documentation\n",
    "    \n",
    "    Parameters :\n",
    "        - helper_path : the file path\n",
    "\n",
    "    Output (if exists) :\n",
    "        - df : My Dataframe cleaned and reindexed\n",
    "\n",
    "    \"\"\"\n",
    "    \n",
    "    # Data Load with pandas librairy\n",
    "    df = pd.read_csv(helper_path)\n",
    "\n",
    "    # Drop articles with no content\n",
    "    df = df[df['art_content'] != '']\n",
    "\n",
    "    # Reset my dataframe index\n",
    "    df = df.reset_index(drop = True)\n",
    "    \n",
    "    # Returns my clean dataframe\n",
    "    return df"
   ]
  },
  {
   "cell_type": "code",
   "execution_count": 8,
   "metadata": {
    "id": "i9X3bb-7G9Sq"
   },
   "outputs": [],
   "source": [
    "def Load_Pickle(helper_path: str) -> pd.DataFrame:\n",
    "    \"\"\"Documentation\n",
    "    \n",
    "    Parameters :\n",
    "        - helper_path : the file path\n",
    "\n",
    "    Output (if exists) :\n",
    "        - pick_file : My pickle file\n",
    "\n",
    "    \"\"\"\n",
    "\n",
    "    # Open My file path\n",
    "    with open(helper_path, 'rb') as f1:\n",
    "\n",
    "        # Load Pickle file\n",
    "        pick_file = pickle.load(f1)\n",
    "\n",
    "        # Return Pickle file\n",
    "        return pick_file"
   ]
  },
  {
   "cell_type": "markdown",
   "metadata": {
    "id": "TDYYQPHWXGQ8"
   },
   "source": [
    "- Phase 1 : Personal paths to data (CSV and Pickle) :"
   ]
  },
  {
   "cell_type": "code",
   "execution_count": 9,
   "metadata": {
    "colab": {
     "base_uri": "https://localhost:8080/"
    },
    "id": "kvx6ekyuzQEf",
    "outputId": "fd3d7071-d68c-41db-ffb7-10a8c19fef43"
   },
   "outputs": [
    {
     "name": "stdout",
     "output_type": "stream",
     "text": [
      "Mounted at /content/drive\n"
     ]
    }
   ],
   "source": [
    "# Connect the drive folder\n",
    "drive.mount('/content/drive')\n",
    "\n",
    "# My file path for the fonction\n",
    "Helper_path_D : str = '/content/drive/MyDrive/data_interpromo/Data/abstract_V0.csv'\n",
    "\n",
    "# My file path for the fonction\n",
    "Helper_path_P: str = '/content/drive/MyDrive/data_interpromo/Data/request_word_weight'"
   ]
  },
  {
   "cell_type": "markdown",
   "metadata": {
    "id": "LcZpu3KHXWMt"
   },
   "source": [
    "- Phase 2 : Get CSV and Pickle data :"
   ]
  },
  {
   "cell_type": "code",
   "execution_count": 10,
   "metadata": {
    "colab": {
     "base_uri": "https://localhost:8080/",
     "height": 939
    },
    "id": "Yef64Pb0XV3A",
    "outputId": "381f19ef-b6e1-40ef-8801-6907057b97eb"
   },
   "outputs": [
    {
     "data": {
      "text/html": [
       "<div>\n",
       "<style scoped>\n",
       "    .dataframe tbody tr th:only-of-type {\n",
       "        vertical-align: middle;\n",
       "    }\n",
       "\n",
       "    .dataframe tbody tr th {\n",
       "        vertical-align: top;\n",
       "    }\n",
       "\n",
       "    .dataframe thead th {\n",
       "        text-align: right;\n",
       "    }\n",
       "</style>\n",
       "<table border=\"1\" class=\"dataframe\">\n",
       "  <thead>\n",
       "    <tr style=\"text-align: right;\">\n",
       "      <th></th>\n",
       "      <th>art_id</th>\n",
       "      <th>art_content</th>\n",
       "      <th>art_content_html</th>\n",
       "      <th>art_extract_datetime</th>\n",
       "      <th>art_lang</th>\n",
       "      <th>art_title</th>\n",
       "      <th>art_url</th>\n",
       "      <th>src_name</th>\n",
       "      <th>src_type</th>\n",
       "      <th>src_url</th>\n",
       "      <th>src_img</th>\n",
       "      <th>art_auth</th>\n",
       "      <th>art_tag</th>\n",
       "      <th>abstract</th>\n",
       "    </tr>\n",
       "  </thead>\n",
       "  <tbody>\n",
       "    <tr>\n",
       "      <th>0</th>\n",
       "      <td>1</td>\n",
       "      <td>le FNCDG et l’ andcdg avoir publier en septemb...</td>\n",
       "      <td>&lt;p style=\"text-align: justify;\"&gt;La FNCDG et l’...</td>\n",
       "      <td>22 septembre 2020</td>\n",
       "      <td>fr</td>\n",
       "      <td>9ème édition du Panorama de l’emploi territorial</td>\n",
       "      <td>http://fncdg.com/9eme-edition-du-panorama-de-l...</td>\n",
       "      <td>FNCDG</td>\n",
       "      <td>xpath_source</td>\n",
       "      <td>http://fncdg.com/actualites/</td>\n",
       "      <td>http://fncdg.com/wp-content/uploads/2020/09/im...</td>\n",
       "      <td>NaN</td>\n",
       "      <td>NaN</td>\n",
       "      <td>le FNCDG et l’ andcdg avoir publier en septemb...</td>\n",
       "    </tr>\n",
       "    <tr>\n",
       "      <th>1</th>\n",
       "      <td>2</td>\n",
       "      <td>malgré le levée un mesure de confinement le 11...</td>\n",
       "      <td>&lt;p style=\"text-align: justify;\"&gt;Malgré la levé...</td>\n",
       "      <td>17 mars 2020</td>\n",
       "      <td>fr</td>\n",
       "      <td>ACTUALITÉS FNCDG / COVID19</td>\n",
       "      <td>http://fncdg.com/actualites-covid19/</td>\n",
       "      <td>FNCDG</td>\n",
       "      <td>xpath_source</td>\n",
       "      <td>http://fncdg.com/actualites/</td>\n",
       "      <td>http://fncdg.com/wp-content/uploads/2020/03/co...</td>\n",
       "      <td>NaN</td>\n",
       "      <td>NaN</td>\n",
       "      <td>malgré le levée un mesure de confinement le 11...</td>\n",
       "    </tr>\n",
       "    <tr>\n",
       "      <th>2</th>\n",
       "      <td>25</td>\n",
       "      <td>quel être le objectif poursuivre par le gouver...</td>\n",
       "      <td>&lt;p style=\"text-align: justify;\"&gt;&lt;strong&gt;Quels ...</td>\n",
       "      <td>24 octobre 2019</td>\n",
       "      <td>fr</td>\n",
       "      <td>Interview de M. Olivier DUSSOPT, Secretaire d’...</td>\n",
       "      <td>http://fncdg.com/interview-de-m-olivier-dussop...</td>\n",
       "      <td>FNCDG</td>\n",
       "      <td>xpath_source</td>\n",
       "      <td>http://fncdg.com/actualites/</td>\n",
       "      <td>http://fncdg.com/wp-content/uploads/2019/10/in...</td>\n",
       "      <td>NaN</td>\n",
       "      <td>NaN</td>\n",
       "      <td>quel être le objectif poursuivre par le gouver...</td>\n",
       "    </tr>\n",
       "    <tr>\n",
       "      <th>3</th>\n",
       "      <td>27</td>\n",
       "      <td>le journée thématique , qui avoir lieu durant ...</td>\n",
       "      <td>&lt;p style=\"text-align: justify;\"&gt;&lt;strong&gt;La  jo...</td>\n",
       "      <td>31 mai 2017</td>\n",
       "      <td>fr</td>\n",
       "      <td>Journée Thématique FNCDG « Les services de san...</td>\n",
       "      <td>http://fncdg.com/journee-thematique-fncdg-les-...</td>\n",
       "      <td>FNCDG</td>\n",
       "      <td>xpath_source</td>\n",
       "      <td>http://fncdg.com/actualites/</td>\n",
       "      <td>http://fncdg.com/wp-content/uploads/2017/05/pu...</td>\n",
       "      <td>NaN</td>\n",
       "      <td>NaN</td>\n",
       "      <td>le journée thématique , qui avoir lieu durant ...</td>\n",
       "    </tr>\n",
       "    <tr>\n",
       "      <th>4</th>\n",
       "      <td>28</td>\n",
       "      <td>le 1ère journée thématique en région sur le th...</td>\n",
       "      <td>&lt;p style=\"text-align: justify;\"&gt;La 1&lt;sup&gt;ère&lt;/...</td>\n",
       "      <td>13 mars 2017</td>\n",
       "      <td>fr</td>\n",
       "      <td>Journée Thématique FNCDG « Vers de nouveaux mo...</td>\n",
       "      <td>http://fncdg.com/journee-thematique-fncdg-vers...</td>\n",
       "      <td>FNCDG</td>\n",
       "      <td>xpath_source</td>\n",
       "      <td>http://fncdg.com/actualites/</td>\n",
       "      <td>http://fncdg.com/wp-content/uploads/2017/03/Sa...</td>\n",
       "      <td>NaN</td>\n",
       "      <td>NaN</td>\n",
       "      <td>le 1ère journée thématique en région sur le th...</td>\n",
       "    </tr>\n",
       "    <tr>\n",
       "      <th>5</th>\n",
       "      <td>30</td>\n",
       "      <td>l’ un un innovation de le loi n degré 2019 - 8...</td>\n",
       "      <td>&lt;p style=\"text-align: justify;\"&gt;L’une des inno...</td>\n",
       "      <td>22 octobre 2020</td>\n",
       "      <td>fr</td>\n",
       "      <td>La publication d’un guide d’accompagnement à l...</td>\n",
       "      <td>http://fncdg.com/la-publication-dun-guide-dacc...</td>\n",
       "      <td>FNCDG</td>\n",
       "      <td>xpath_source</td>\n",
       "      <td>http://fncdg.com/actualites/</td>\n",
       "      <td>http://fncdg.com/wp-content/uploads/2020/10/LG...</td>\n",
       "      <td>NaN</td>\n",
       "      <td>NaN</td>\n",
       "      <td>l’ un un innovation de le loi n degré 2019 - 8...</td>\n",
       "    </tr>\n",
       "    <tr>\n",
       "      <th>6</th>\n",
       "      <td>31</td>\n",
       "      <td>le FNCDG mener , en collaboration avec d’ autr...</td>\n",
       "      <td>&lt;p style=\"text-align: justify;\"&gt;La FNCDG mène,...</td>\n",
       "      <td>10 décembre 2020</td>\n",
       "      <td>fr</td>\n",
       "      <td>La publication d’un guide de sensibilisation a...</td>\n",
       "      <td>http://fncdg.com/la-publication-dun-guide-de-s...</td>\n",
       "      <td>FNCDG</td>\n",
       "      <td>xpath_source</td>\n",
       "      <td>http://fncdg.com/actualites/</td>\n",
       "      <td>http://fncdg.com/wp-content/uploads/2020/12/im...</td>\n",
       "      <td>NaN</td>\n",
       "      <td>NaN</td>\n",
       "      <td>le FNCDG mener , en collaboration avec d’ autr...</td>\n",
       "    </tr>\n",
       "    <tr>\n",
       "      <th>7</th>\n",
       "      <td>32</td>\n",
       "      <td>créer pour et par le décideur territorial , ét...</td>\n",
       "      <td>&lt;p style=\"text-align: justify;\"&gt;Créé pour et p...</td>\n",
       "      <td>24 février 2017</td>\n",
       "      <td>fr</td>\n",
       "      <td>Lancement du réseau Étoile</td>\n",
       "      <td>http://fncdg.com/lancement-du-reseau-etoile/</td>\n",
       "      <td>FNCDG</td>\n",
       "      <td>xpath_source</td>\n",
       "      <td>http://fncdg.com/actualites/</td>\n",
       "      <td>http://fncdg.com/wp-content/uploads/2017/02/re...</td>\n",
       "      <td>NaN</td>\n",
       "      <td>NaN</td>\n",
       "      <td>créer pour et par le décideur territorial , ét...</td>\n",
       "    </tr>\n",
       "    <tr>\n",
       "      <th>8</th>\n",
       "      <td>34</td>\n",
       "      <td>le décret n degré 2017 - 397 et n degré 2017 -...</td>\n",
       "      <td>&lt;p style=\"text-align: justify;\"&gt;Les décrets n°...</td>\n",
       "      <td>5 avril 2017</td>\n",
       "      <td>fr</td>\n",
       "      <td>Le cadre d’emplois des agents de police munici...</td>\n",
       "      <td>http://fncdg.com/le-cadre-demplois-des-agents-...</td>\n",
       "      <td>FNCDG</td>\n",
       "      <td>xpath_source</td>\n",
       "      <td>http://fncdg.com/actualites/</td>\n",
       "      <td>http://fncdg.com/wp-content/uploads/2017/04/po...</td>\n",
       "      <td>NaN</td>\n",
       "      <td>NaN</td>\n",
       "      <td>le décret n degré 2017 - 397 et n degré 2017 -...</td>\n",
       "    </tr>\n",
       "    <tr>\n",
       "      <th>9</th>\n",
       "      <td>35</td>\n",
       "      <td>un candidat à un examen professionnel organise...</td>\n",
       "      <td>&lt;p style=\"text-align: justify;\"&gt;Une candidate ...</td>\n",
       "      <td>6 juillet 2017</td>\n",
       "      <td>fr</td>\n",
       "      <td>Le Conseil d’Etat confirme la souveraineté des...</td>\n",
       "      <td>http://fncdg.com/le-conseil-detat-confirme-la-...</td>\n",
       "      <td>FNCDG</td>\n",
       "      <td>xpath_source</td>\n",
       "      <td>http://fncdg.com/actualites/</td>\n",
       "      <td>http://fncdg.com/wp-content/uploads/2017/07/Co...</td>\n",
       "      <td>NaN</td>\n",
       "      <td>NaN</td>\n",
       "      <td>un candidat à un examen professionnel organise...</td>\n",
       "    </tr>\n",
       "  </tbody>\n",
       "</table>\n",
       "</div>"
      ],
      "text/plain": [
       "   art_id  ...                                           abstract\n",
       "0       1  ...  le FNCDG et l’ andcdg avoir publier en septemb...\n",
       "1       2  ...  malgré le levée un mesure de confinement le 11...\n",
       "2      25  ...  quel être le objectif poursuivre par le gouver...\n",
       "3      27  ...  le journée thématique , qui avoir lieu durant ...\n",
       "4      28  ...  le 1ère journée thématique en région sur le th...\n",
       "5      30  ...  l’ un un innovation de le loi n degré 2019 - 8...\n",
       "6      31  ...  le FNCDG mener , en collaboration avec d’ autr...\n",
       "7      32  ...  créer pour et par le décideur territorial , ét...\n",
       "8      34  ...  le décret n degré 2017 - 397 et n degré 2017 -...\n",
       "9      35  ...  un candidat à un examen professionnel organise...\n",
       "\n",
       "[10 rows x 14 columns]"
      ]
     },
     "execution_count": 10,
     "metadata": {
      "tags": []
     },
     "output_type": "execute_result"
    }
   ],
   "source": [
    "# My DataFrame variable\n",
    "My_Data : pd.DataFrame = Load_data(Helper_path_D)\n",
    "\n",
    "# My Pickle variable\n",
    "List_topics = Load_Pickle(Helper_path_P)\n",
    "\n",
    "# Get topics DataFrame\n",
    "Indices = np.arange(1, len(List_topics) + 1)\n",
    "Topics : pd.DataFrame = pd.DataFrame(List_topics, \\\n",
    "                                     columns = ['query'])\n",
    "\n",
    "# Create new Column\n",
    "Topics['qid'] = Indices \n",
    "\n",
    "# To Show My Data Dataframe\n",
    "My_Data.head(10)"
   ]
  },
  {
   "cell_type": "code",
   "execution_count": 11,
   "metadata": {
    "colab": {
     "base_uri": "https://localhost:8080/",
     "height": 334
    },
    "id": "a-bnwUXJYkAa",
    "outputId": "1794642b-8afe-4f97-ce41-cc5ebfb7c343"
   },
   "outputs": [
    {
     "data": {
      "text/html": [
       "<div>\n",
       "<style scoped>\n",
       "    .dataframe tbody tr th:only-of-type {\n",
       "        vertical-align: middle;\n",
       "    }\n",
       "\n",
       "    .dataframe tbody tr th {\n",
       "        vertical-align: top;\n",
       "    }\n",
       "\n",
       "    .dataframe thead th {\n",
       "        text-align: right;\n",
       "    }\n",
       "</style>\n",
       "<table border=\"1\" class=\"dataframe\">\n",
       "  <thead>\n",
       "    <tr style=\"text-align: right;\">\n",
       "      <th></th>\n",
       "      <th>query</th>\n",
       "      <th>qid</th>\n",
       "    </tr>\n",
       "  </thead>\n",
       "  <tbody>\n",
       "    <tr>\n",
       "      <th>0</th>\n",
       "      <td>energie finance lenvironnement reforme parleme...</td>\n",
       "      <td>1</td>\n",
       "    </tr>\n",
       "    <tr>\n",
       "      <th>1</th>\n",
       "      <td>medias mobilite emploi societe relations intel...</td>\n",
       "      <td>2</td>\n",
       "    </tr>\n",
       "    <tr>\n",
       "      <th>2</th>\n",
       "      <td>institutions innovation emploi union travaux b...</td>\n",
       "      <td>3</td>\n",
       "    </tr>\n",
       "    <tr>\n",
       "      <th>3</th>\n",
       "      <td>recherche emploi experiencecollaborateur insti...</td>\n",
       "      <td>4</td>\n",
       "    </tr>\n",
       "    <tr>\n",
       "      <th>4</th>\n",
       "      <td>iot numerique international economique institu...</td>\n",
       "      <td>5</td>\n",
       "    </tr>\n",
       "    <tr>\n",
       "      <th>5</th>\n",
       "      <td>collectivites finances vacances financement ea...</td>\n",
       "      <td>6</td>\n",
       "    </tr>\n",
       "    <tr>\n",
       "      <th>6</th>\n",
       "      <td>droits vie economie elections tech sciences pu...</td>\n",
       "      <td>7</td>\n",
       "    </tr>\n",
       "    <tr>\n",
       "      <th>7</th>\n",
       "      <td>societe letat securite internationales territo...</td>\n",
       "      <td>8</td>\n",
       "    </tr>\n",
       "    <tr>\n",
       "      <th>8</th>\n",
       "      <td>gestion societe institutions emploi lenvironne...</td>\n",
       "      <td>9</td>\n",
       "    </tr>\n",
       "    <tr>\n",
       "      <th>9</th>\n",
       "      <td>5g economie robot tech defense institutions cu...</td>\n",
       "      <td>10</td>\n",
       "    </tr>\n",
       "  </tbody>\n",
       "</table>\n",
       "</div>"
      ],
      "text/plain": [
       "                                               query  qid\n",
       "0  energie finance lenvironnement reforme parleme...    1\n",
       "1  medias mobilite emploi societe relations intel...    2\n",
       "2  institutions innovation emploi union travaux b...    3\n",
       "3  recherche emploi experiencecollaborateur insti...    4\n",
       "4  iot numerique international economique institu...    5\n",
       "5  collectivites finances vacances financement ea...    6\n",
       "6  droits vie economie elections tech sciences pu...    7\n",
       "7  societe letat securite internationales territo...    8\n",
       "8  gestion societe institutions emploi lenvironne...    9\n",
       "9  5g economie robot tech defense institutions cu...   10"
      ]
     },
     "execution_count": 11,
     "metadata": {
      "tags": []
     },
     "output_type": "execute_result"
    }
   ],
   "source": [
    "# To Show My Topics Dataframe\n",
    "Topics.head(10)"
   ]
  },
  {
   "cell_type": "markdown",
   "metadata": {
    "id": "ad5Gkg8oiZKv"
   },
   "source": [
    "\n",
    "## Part 3 : Indexing"
   ]
  },
  {
   "cell_type": "markdown",
   "metadata": {
    "id": "rkQKujxcZnqc"
   },
   "source": [
    "- Phase 1 : Install / Initialization / Creation "
   ]
  },
  {
   "cell_type": "code",
   "execution_count": 12,
   "metadata": {
    "collapsed": true,
    "id": "jXFbuVQie4lA"
   },
   "outputs": [],
   "source": [
    "# JAVA_HOME Declaration\n",
    "os.environ['JAVA_HOME'] = '/usr/lib/jvm/java-11-openjdk-amd64'\n",
    "\n",
    "# Export my JAVA_HOME\n",
    "!export JAVA_HOME=/usr/lib/jvm/java-11-openjdk-amd64"
   ]
  },
  {
   "cell_type": "code",
   "execution_count": 13,
   "metadata": {
    "colab": {
     "base_uri": "https://localhost:8080/"
    },
    "collapsed": true,
    "id": "OdE0zNPmfAD-",
    "outputId": "66948a44-854f-487c-e1ff-9c320c12a1a9"
   },
   "outputs": [
    {
     "name": "stdout",
     "output_type": "stream",
     "text": [
      "terrier-assemblies 5.4  jar-with-dependencies not found, downloading to /root/.pyterrier...\n",
      "Done\n",
      "terrier-python-helper 0.0.4  jar not found, downloading to /root/.pyterrier...\n",
      "Done\n",
      "PyTerrier 0.3.1 has loaded Terrier 5.4 (built by craigm on 2021-01-16 14:17)\n"
     ]
    }
   ],
   "source": [
    "# JVM initialization\n",
    "if not pt.started():\n",
    "    pt.init()"
   ]
  },
  {
   "cell_type": "code",
   "execution_count": 14,
   "metadata": {
    "collapsed": true,
    "id": "EUqhzUnjfEJz"
   },
   "outputs": [],
   "source": [
    "# Path Creation\n",
    "!rm -rf ./pd_index\n",
    "\n",
    "# Index stockage\n",
    "Pd_indexer = pt.DFIndexer(\"./pd_index\")"
   ]
  },
  {
   "cell_type": "markdown",
   "metadata": {
    "id": "msrsTXuJZml8"
   },
   "source": [
    "- Phase 2 : Docs Creation"
   ]
  },
  {
   "cell_type": "code",
   "execution_count": 15,
   "metadata": {
    "colab": {
     "base_uri": "https://localhost:8080/",
     "height": 190
    },
    "id": "x9_tfD1JfM1u",
    "outputId": "db99af7c-3c2c-4668-ee95-5950d4ebde05"
   },
   "outputs": [
    {
     "data": {
      "text/html": [
       "<div>\n",
       "<style scoped>\n",
       "    .dataframe tbody tr th:only-of-type {\n",
       "        vertical-align: middle;\n",
       "    }\n",
       "\n",
       "    .dataframe tbody tr th {\n",
       "        vertical-align: top;\n",
       "    }\n",
       "\n",
       "    .dataframe thead th {\n",
       "        text-align: right;\n",
       "    }\n",
       "</style>\n",
       "<table border=\"1\" class=\"dataframe\">\n",
       "  <thead>\n",
       "    <tr style=\"text-align: right;\">\n",
       "      <th></th>\n",
       "      <th>art_title</th>\n",
       "      <th>art_url</th>\n",
       "      <th>abstract</th>\n",
       "      <th>docno</th>\n",
       "    </tr>\n",
       "  </thead>\n",
       "  <tbody>\n",
       "    <tr>\n",
       "      <th>0</th>\n",
       "      <td>9ème édition du Panorama de l’emploi territorial</td>\n",
       "      <td>http://fncdg.com/9eme-edition-du-panorama-de-l...</td>\n",
       "      <td>le FNCDG et l’ andcdg avoir publier en septemb...</td>\n",
       "      <td>1</td>\n",
       "    </tr>\n",
       "    <tr>\n",
       "      <th>1</th>\n",
       "      <td>ACTUALITÉS FNCDG / COVID19</td>\n",
       "      <td>http://fncdg.com/actualites-covid19/</td>\n",
       "      <td>malgré le levée un mesure de confinement le 11...</td>\n",
       "      <td>2</td>\n",
       "    </tr>\n",
       "    <tr>\n",
       "      <th>2</th>\n",
       "      <td>Interview de M. Olivier DUSSOPT, Secretaire d’...</td>\n",
       "      <td>http://fncdg.com/interview-de-m-olivier-dussop...</td>\n",
       "      <td>quel être le objectif poursuivre par le gouver...</td>\n",
       "      <td>25</td>\n",
       "    </tr>\n",
       "    <tr>\n",
       "      <th>3</th>\n",
       "      <td>Journée Thématique FNCDG « Les services de san...</td>\n",
       "      <td>http://fncdg.com/journee-thematique-fncdg-les-...</td>\n",
       "      <td>le journée thématique , qui avoir lieu durant ...</td>\n",
       "      <td>27</td>\n",
       "    </tr>\n",
       "    <tr>\n",
       "      <th>4</th>\n",
       "      <td>Journée Thématique FNCDG « Vers de nouveaux mo...</td>\n",
       "      <td>http://fncdg.com/journee-thematique-fncdg-vers...</td>\n",
       "      <td>le 1ère journée thématique en région sur le th...</td>\n",
       "      <td>28</td>\n",
       "    </tr>\n",
       "  </tbody>\n",
       "</table>\n",
       "</div>"
      ],
      "text/plain": [
       "                                           art_title  ... docno\n",
       "0   9ème édition du Panorama de l’emploi territorial  ...     1\n",
       "1                         ACTUALITÉS FNCDG / COVID19  ...     2\n",
       "2  Interview de M. Olivier DUSSOPT, Secretaire d’...  ...    25\n",
       "3  Journée Thématique FNCDG « Les services de san...  ...    27\n",
       "4  Journée Thématique FNCDG « Vers de nouveaux mo...  ...    28\n",
       "\n",
       "[5 rows x 4 columns]"
      ]
     },
     "execution_count": 15,
     "metadata": {
      "tags": []
     },
     "output_type": "execute_result"
    }
   ],
   "source": [
    "# Select columns to the docs\n",
    "Docs_columns : list = ['art_title', 'art_url', 'abstract']\n",
    "\n",
    "# My Docs DataFrame\n",
    "Docs : pd.DataFrame = My_Data[Docs_columns].copy()\n",
    "\n",
    "# Add Column to my DataFrame\n",
    "Docs['docno'] = My_Data['art_id'].astype(str)\n",
    "\n",
    "# To show my docs DataFrame\n",
    "Docs.head()"
   ]
  },
  {
   "cell_type": "markdown",
   "metadata": {
    "id": "4ejwh_wkaQxi"
   },
   "source": [
    "- Phase 3 : My reference index creation\n",
    "\n"
   ]
  },
  {
   "cell_type": "code",
   "execution_count": 16,
   "metadata": {
    "colab": {
     "base_uri": "https://localhost:8080/"
    },
    "id": "MuodpcyVapnt",
    "outputId": "dbb6a254-9331-48ad-f47f-556939587589"
   },
   "outputs": [
    {
     "name": "stdout",
     "output_type": "stream",
     "text": [
      "10:58:33.274 [main] WARN  o.t.structures.indexing.Indexer - Adding an empty document to the index (1880) - further warnings are suppressed\n",
      "10:58:38.584 [main] WARN  o.t.structures.indexing.Indexer - Indexed 6 empty documents\n"
     ]
    }
   ],
   "source": [
    "Indexref = Pd_indexer.index(Docs[\"abstract\"], Docs[\"docno\"], Docs[\"art_url\"], Docs[\"art_title\"])"
   ]
  },
  {
   "cell_type": "markdown",
   "metadata": {
    "id": "nnv3-j-Sa101"
   },
   "source": [
    "- Optional Phase : Index Statistics"
   ]
  },
  {
   "cell_type": "code",
   "execution_count": 17,
   "metadata": {
    "id": "_0LM9AJ7jLz4"
   },
   "outputs": [],
   "source": [
    "# Index = pt.IndexFactory.of(Indexref)\n",
    "# print(Index.getCollectionStatistics().toString())"
   ]
  },
  {
   "cell_type": "markdown",
   "metadata": {
    "id": "3jIbqwOmglet"
   },
   "source": [
    "## Part 4 : Generating qrels from retrieval models output"
   ]
  },
  {
   "cell_type": "markdown",
   "metadata": {
    "id": "De0eJRTtaLXT"
   },
   "source": [
    "- **First Rankers :** Make the candidate set of documents for each query"
   ]
  },
  {
   "cell_type": "code",
   "execution_count": 18,
   "metadata": {
    "id": "KcxI3oUraKfz"
   },
   "outputs": [],
   "source": [
    "BM25 = pt.BatchRetrieve(Indexref, \\\n",
    "                        controls = {\"wmodel\": \"BM25\"})"
   ]
  },
  {
   "cell_type": "markdown",
   "metadata": {
    "id": "Yy8i0q8YaMAP"
   },
   "source": [
    "- **Second Rankers :** Make for use to re-rank the BM25 results"
   ]
  },
  {
   "cell_type": "code",
   "execution_count": 19,
   "metadata": {
    "collapsed": true,
    "id": "__pY093ZiWat"
   },
   "outputs": [],
   "source": [
    "TF_IDF =  pt.BatchRetrieve(Indexref, \\\n",
    "                           controls = {\"wmodel\": \"TF_IDF\"})\n",
    "\n",
    "DPH = pt.BatchRetrieve(Indexref, \\\n",
    "                       controls = {\"wmodel\": \"DPH\"})"
   ]
  },
  {
   "cell_type": "code",
   "execution_count": 20,
   "metadata": {
    "id": "dW4gESvV1W5u"
   },
   "outputs": [],
   "source": [
    "def Remove_querys(topics : pd.DataFrame, model) -> pd.DataFrame :\n",
    "    \"\"\"Documentation\n",
    "    \n",
    "    Parameters :\n",
    "        - topics: data frame of queries in french\n",
    "        - model: learning to rank model\n",
    "\n",
    "    Output (if exists) :\n",
    "        - topics_: data frame of queries with at \n",
    "        least one corresponding document\n",
    "        \n",
    "    \"\"\"\n",
    "\n",
    "    # Create my topics variable\n",
    "    topics_ : pd.DataFrame = topics\n",
    "\n",
    "    # Step 1 : Check matching document\n",
    "    for i in range(len(topics)):\n",
    "      \n",
    "        # Get length of query\n",
    "        l = len(model.transform(topics[\"query\"][i]))\n",
    "      \n",
    "        # Check the match\n",
    "        if l == 0:\n",
    "        \n",
    "            # Remove query if any match\n",
    "            topics_ : pd.DataFrame = topics_.drop(index = i, \\\n",
    "                                                  axis = 0)\n",
    "    \n",
    "    # Return my query DataFrame\n",
    "    return topics_"
   ]
  },
  {
   "cell_type": "code",
   "execution_count": 21,
   "metadata": {
    "id": "ja3woQCI629J"
   },
   "outputs": [],
   "source": [
    "def Get_qrels(topics : pd.DataFrame, model) -> pd.DataFrame :\n",
    "    \"\"\"Documentation\n",
    "    \n",
    "    Parameters :\n",
    "        - topics: data frame of queries in french\n",
    "        - model: learning to rank model\n",
    "\n",
    "    Output (if exists) :\n",
    "        - qrels_bis: new qrels data frame \n",
    "        \n",
    "    \"\"\"\n",
    "\n",
    "    # My selected list\n",
    "    columns : list = [\"qid\", \"docno\"]\n",
    "    \n",
    "    # Define new DataFrame\n",
    "    qrels_bis : pd.DataFrame = pd.DataFrame(columns = columns)\n",
    "\n",
    "    # Step 1 : Browse every queries \n",
    "    for i in topics.index:\n",
    "\n",
    "        # Use my model for get qrels\n",
    "        result = model.transform(Topics_final[\"query\"][i])\n",
    "      \n",
    "        # Select queries randomly\n",
    "        result_ = result.sample(n = 10)\n",
    "        result_[\"qid\"] = i + 1\n",
    "      \n",
    "        # Concatenate results \n",
    "        qrels_bis : pd.DataFrame = pd.concat([qrels_bis, \\\n",
    "                                            result_[[\"qid\", \"docno\"]]])\n",
    "    \n",
    "    # Add label\n",
    "    qrels_bis[\"label\"] : pd.DataFrame = '1'\n",
    "\n",
    "    # Return my new Qrels DataFrame\n",
    "    return qrels_bis"
   ]
  },
  {
   "cell_type": "markdown",
   "metadata": {
    "id": "WwwSMHxzerU5"
   },
   "source": [
    "- Fonction Application to get Topics and Qrels :"
   ]
  },
  {
   "cell_type": "code",
   "execution_count": 22,
   "metadata": {
    "colab": {
     "base_uri": "https://localhost:8080/"
    },
    "id": "DO0_sox-647P",
    "outputId": "1012f0af-2c8b-4c27-d759-764093162076"
   },
   "outputs": [
    {
     "name": "stderr",
     "output_type": "stream",
     "text": [
      "/usr/local/lib/python3.6/dist-packages/ipykernel_launcher.py:21: FutureWarning: .transform() should be passed a dataframe. Use .search() to execute a single query.\n",
      "/usr/local/lib/python3.6/dist-packages/ipykernel_launcher.py:23: FutureWarning: .transform() should be passed a dataframe. Use .search() to execute a single query.\n"
     ]
    }
   ],
   "source": [
    "Topics_final = Remove_querys(Topics, BM25)\n",
    "Qrels_bis = Get_qrels(Topics_final, BM25)"
   ]
  },
  {
   "cell_type": "code",
   "execution_count": 23,
   "metadata": {
    "colab": {
     "base_uri": "https://localhost:8080/",
     "height": 392
    },
    "id": "AoGP1W5wCk6V",
    "outputId": "a1add768-2491-42e1-9c79-168098b268e8"
   },
   "outputs": [
    {
     "data": {
      "text/html": [
       "<div>\n",
       "<style scoped>\n",
       "    .dataframe tbody tr th:only-of-type {\n",
       "        vertical-align: middle;\n",
       "    }\n",
       "\n",
       "    .dataframe tbody tr th {\n",
       "        vertical-align: top;\n",
       "    }\n",
       "\n",
       "    .dataframe thead th {\n",
       "        text-align: right;\n",
       "    }\n",
       "</style>\n",
       "<table border=\"1\" class=\"dataframe\">\n",
       "  <thead>\n",
       "    <tr style=\"text-align: right;\">\n",
       "      <th></th>\n",
       "      <th>qid</th>\n",
       "      <th>docno</th>\n",
       "      <th>label</th>\n",
       "    </tr>\n",
       "  </thead>\n",
       "  <tbody>\n",
       "    <tr>\n",
       "      <th>528</th>\n",
       "      <td>1</td>\n",
       "      <td>1608</td>\n",
       "      <td>1</td>\n",
       "    </tr>\n",
       "    <tr>\n",
       "      <th>488</th>\n",
       "      <td>1</td>\n",
       "      <td>467</td>\n",
       "      <td>1</td>\n",
       "    </tr>\n",
       "    <tr>\n",
       "      <th>130</th>\n",
       "      <td>1</td>\n",
       "      <td>3803</td>\n",
       "      <td>1</td>\n",
       "    </tr>\n",
       "    <tr>\n",
       "      <th>499</th>\n",
       "      <td>1</td>\n",
       "      <td>7575</td>\n",
       "      <td>1</td>\n",
       "    </tr>\n",
       "    <tr>\n",
       "      <th>136</th>\n",
       "      <td>1</td>\n",
       "      <td>7849</td>\n",
       "      <td>1</td>\n",
       "    </tr>\n",
       "    <tr>\n",
       "      <th>...</th>\n",
       "      <td>...</td>\n",
       "      <td>...</td>\n",
       "      <td>...</td>\n",
       "    </tr>\n",
       "    <tr>\n",
       "      <th>495</th>\n",
       "      <td>150</td>\n",
       "      <td>2106</td>\n",
       "      <td>1</td>\n",
       "    </tr>\n",
       "    <tr>\n",
       "      <th>827</th>\n",
       "      <td>150</td>\n",
       "      <td>6723</td>\n",
       "      <td>1</td>\n",
       "    </tr>\n",
       "    <tr>\n",
       "      <th>716</th>\n",
       "      <td>150</td>\n",
       "      <td>6157</td>\n",
       "      <td>1</td>\n",
       "    </tr>\n",
       "    <tr>\n",
       "      <th>816</th>\n",
       "      <td>150</td>\n",
       "      <td>7233</td>\n",
       "      <td>1</td>\n",
       "    </tr>\n",
       "    <tr>\n",
       "      <th>649</th>\n",
       "      <td>150</td>\n",
       "      <td>7748</td>\n",
       "      <td>1</td>\n",
       "    </tr>\n",
       "  </tbody>\n",
       "</table>\n",
       "<p>1500 rows × 3 columns</p>\n",
       "</div>"
      ],
      "text/plain": [
       "     qid docno label\n",
       "528    1  1608     1\n",
       "488    1   467     1\n",
       "130    1  3803     1\n",
       "499    1  7575     1\n",
       "136    1  7849     1\n",
       "..   ...   ...   ...\n",
       "495  150  2106     1\n",
       "827  150  6723     1\n",
       "716  150  6157     1\n",
       "816  150  7233     1\n",
       "649  150  7748     1\n",
       "\n",
       "[1500 rows x 3 columns]"
      ]
     },
     "execution_count": 23,
     "metadata": {
      "tags": []
     },
     "output_type": "execute_result"
    }
   ],
   "source": [
    "# To show my Qrels DataFrame\n",
    "Qrels_bis"
   ]
  },
  {
   "cell_type": "markdown",
   "metadata": {
    "id": "-1c6O5dl4wVH"
   },
   "source": [
    "# Part 5 : Learning To Rank "
   ]
  },
  {
   "cell_type": "markdown",
   "metadata": {
    "id": "VjgTFLfy4yxd"
   },
   "source": [
    "### Phase 1 : Learning after re-ranking with extra-features"
   ]
  },
  {
   "cell_type": "markdown",
   "metadata": {
    "id": "bwR_IEpwgKRr"
   },
   "source": [
    "- **Step 1 :** Data partitioning (`Train`, `Test`, `Validation`) for my **Topics data**"
   ]
  },
  {
   "cell_type": "code",
   "execution_count": 24,
   "metadata": {
    "id": "NRrYEjrohJeZ"
   },
   "outputs": [],
   "source": [
    "train_topics, valid_topics, test_topics = np.split(Topics_final, \\\n",
    "                                                   [int(.6*len(Topics_final)), \\\n",
    "                                                    int(.8*len(Topics_final))])"
   ]
  },
  {
   "cell_type": "markdown",
   "metadata": {
    "id": "xx0sJvMSheUt"
   },
   "source": [
    "- **Step 2 :** Change the data type for learning in my **Qrels DataFrame**"
   ]
  },
  {
   "cell_type": "code",
   "execution_count": 25,
   "metadata": {
    "id": "woD65iR7hmGw"
   },
   "outputs": [],
   "source": [
    "Qrels_bis['qid'] = Qrels_bis['qid'].apply(str)\n",
    "Qrels_bis['docno'] = Qrels_bis['docno'].apply(str)\n",
    "Qrels_bis['label'] = Qrels_bis['label'].apply(str)"
   ]
  },
  {
   "cell_type": "markdown",
   "metadata": {
    "id": "fvfUY36Yg7ps"
   },
   "source": [
    "- **Step 3 :** Data partitioning (`Train`, `Test`, `Validation`) for my **Qrels data**"
   ]
  },
  {
   "cell_type": "code",
   "execution_count": 26,
   "metadata": {
    "id": "64X1js4ShThR"
   },
   "outputs": [],
   "source": [
    "train_qrels, valid_qrels, test_qrels = np.split(Qrels_bis, \\\n",
    "                                                [int(.6*len(Qrels_bis)), \\\n",
    "                                                 int(.8*len(Qrels_bis))])"
   ]
  },
  {
   "cell_type": "markdown",
   "metadata": {
    "id": "pKbbK4er5iOP"
   },
   "source": [
    "### Phase 2 : Learning To Rank with sklearn regressor\n",
    "\n"
   ]
  },
  {
   "cell_type": "markdown",
   "metadata": {
    "id": "4xSio8_BkC1V"
   },
   "source": [
    "- **Step 1 :** Create a Random Forest regressor"
   ]
  },
  {
   "cell_type": "code",
   "execution_count": 27,
   "metadata": {
    "id": "9SehwJytkEll"
   },
   "outputs": [],
   "source": [
    "# My personnal random forest regressor\n",
    "Rf = RandomForestRegressor(n_estimators = 100)"
   ]
  },
  {
   "cell_type": "markdown",
   "metadata": {
    "id": "qjGMbX76kC-m"
   },
   "source": [
    "- **Step 2 :** Generate the LTR pipeline"
   ]
  },
  {
   "cell_type": "code",
   "execution_count": 28,
   "metadata": {
    "id": "HMFEN7n4kFKw"
   },
   "outputs": [],
   "source": [
    "# Using my Rankers to generate\n",
    "Pipeline = BM25 >> (DPH ** TF_IDF) \n",
    "Pipeline.fit(train_topics, \\\n",
    "             Qrels_bis)\n",
    "\n",
    "# Using my regressor \n",
    "Rf_pipe = Pipeline >> pt.ltr.apply_learned_model(Rf)\n",
    "Rf_pipe.fit(train_topics, \\\n",
    "            Qrels_bis)"
   ]
  },
  {
   "cell_type": "markdown",
   "metadata": {
    "id": "ly0wPixpkDHK"
   },
   "source": [
    "- **Step 3 :** Execute the LTR pipeline"
   ]
  },
  {
   "cell_type": "code",
   "execution_count": 29,
   "metadata": {
    "colab": {
     "base_uri": "https://localhost:8080/",
     "height": 104
    },
    "id": "5-INtQNQkFpG",
    "outputId": "b12af8f5-cd26-4a55-d177-8bd10cbf7548"
   },
   "outputs": [
    {
     "data": {
      "text/html": [
       "<div>\n",
       "<style scoped>\n",
       "    .dataframe tbody tr th:only-of-type {\n",
       "        vertical-align: middle;\n",
       "    }\n",
       "\n",
       "    .dataframe tbody tr th {\n",
       "        vertical-align: top;\n",
       "    }\n",
       "\n",
       "    .dataframe thead th {\n",
       "        text-align: right;\n",
       "    }\n",
       "</style>\n",
       "<table border=\"1\" class=\"dataframe\">\n",
       "  <thead>\n",
       "    <tr style=\"text-align: right;\">\n",
       "      <th></th>\n",
       "      <th>name</th>\n",
       "      <th>map</th>\n",
       "      <th>ndcg</th>\n",
       "    </tr>\n",
       "  </thead>\n",
       "  <tbody>\n",
       "    <tr>\n",
       "      <th>0</th>\n",
       "      <td>BM25 Baseline</td>\n",
       "      <td>0.027271</td>\n",
       "      <td>0.295848</td>\n",
       "    </tr>\n",
       "    <tr>\n",
       "      <th>1</th>\n",
       "      <td>LTR</td>\n",
       "      <td>0.031954</td>\n",
       "      <td>0.306723</td>\n",
       "    </tr>\n",
       "  </tbody>\n",
       "</table>\n",
       "</div>"
      ],
      "text/plain": [
       "            name       map      ndcg\n",
       "0  BM25 Baseline  0.027271  0.295848\n",
       "1            LTR  0.031954  0.306723"
      ]
     },
     "execution_count": 29,
     "metadata": {
      "tags": []
     },
     "output_type": "execute_result"
    }
   ],
   "source": [
    "Res_LTR = pt.pipelines.Experiment([Pipeline, Rf_pipe], \\\n",
    "                                  test_topics, \\\n",
    "                                  Qrels_bis, \\\n",
    "                                  [\"map\",\"ndcg\"], \\\n",
    "                                  names = [\"BM25 Baseline\",\"LTR\"])\n",
    "# To show my score \n",
    "Res_LTR"
   ]
  },
  {
   "cell_type": "markdown",
   "metadata": {
    "id": "UyTsOfR156Re"
   },
   "source": [
    "### Phase 3 : Learning To Rank with Gradient Boosted Trees & LambdaMART"
   ]
  },
  {
   "cell_type": "markdown",
   "metadata": {
    "id": "PYP5sBXY30rE"
   },
   "source": [
    "#### Method 1 : Using my `Map` Metric"
   ]
  },
  {
   "cell_type": "markdown",
   "metadata": {
    "id": "qTKNPzT31uJn"
   },
   "source": [
    "- **Step 1 :** Build a XGBoost regressor"
   ]
  },
  {
   "cell_type": "code",
   "execution_count": 30,
   "metadata": {
    "id": "Os0cxwg52KZA"
   },
   "outputs": [],
   "source": [
    "# Set the XGBoost parameters for MAP metric\n",
    "Lmart_x_map = xgb.sklearn.XGBRanker(objective ='rank:map', \\\n",
    "                                    learning_rate = 0.1, \\\n",
    "                                    gamma = 1.0, \\\n",
    "                                    min_child_weight = 0.1, \\\n",
    "                                    max_depth = 6, \\\n",
    "                                    verbose = 2, \\\n",
    "                                    random_state = 42)\n",
    "\n",
    "# Generate the boosted LTR pipeline \n",
    "Lmart_x_pip = Rf_pipe >> pt.ltr.apply_learned_model(Lmart_x_map, \\\n",
    "                                                    form = \"ltr\")\n",
    "\n",
    "# Execute the boosted LTR pipeline\n",
    "Lmart_x_pip.fit(train_topics, \\\n",
    "                train_qrels, \\\n",
    "                valid_topics, \\\n",
    "                valid_qrels)"
   ]
  },
  {
   "cell_type": "markdown",
   "metadata": {
    "id": "tBVL5Bku16oD"
   },
   "source": [
    "- **Step 2 :** Build a LightGBM regressor"
   ]
  },
  {
   "cell_type": "code",
   "execution_count": 31,
   "metadata": {
    "colab": {
     "base_uri": "https://localhost:8080/"
    },
    "id": "9HCdvCbEpbjn",
    "outputId": "58548b16-cc63-4768-f071-55161578a1a4"
   },
   "outputs": [
    {
     "name": "stderr",
     "output_type": "stream",
     "text": [
      "/usr/local/lib/python3.6/dist-packages/lightgbm/engine.py:118: UserWarning: Found `num_iterations` in params. Will use it instead of argument\n",
      "  warnings.warn(\"Found `{}` in params. Will use it instead of argument\".format(alias))\n"
     ]
    },
    {
     "name": "stdout",
     "output_type": "stream",
     "text": [
      "[1]\tvalid_0's map@1: 0\n",
      "[2]\tvalid_0's map@1: 0\n",
      "[3]\tvalid_0's map@1: 0\n",
      "[4]\tvalid_0's map@1: 0\n",
      "[5]\tvalid_0's map@1: 0\n",
      "[6]\tvalid_0's map@1: 0\n",
      "[7]\tvalid_0's map@1: 0\n",
      "[8]\tvalid_0's map@1: 0\n",
      "[9]\tvalid_0's map@1: 0\n",
      "[10]\tvalid_0's map@1: 0\n"
     ]
    }
   ],
   "source": [
    "# Set the LightGBM parameters\n",
    "Lmart_l_map = lgb.LGBMRanker(task = \"train\", \\\n",
    "                             min_data_in_leaf = 1, \\\n",
    "                             min_sum_hessian_in_leaf = 100, \\\n",
    "                             max_bin = 255, \\\n",
    "                             num_leaves = 7, \\\n",
    "                             objective = \"lambdarank\", \\\n",
    "                             metric = \"map\", \\\n",
    "                             ndcg_eval_at = [1, 3, 5, 10], \\\n",
    "                             learning_rate = 0.1, \\\n",
    "                             importance_type = \"gain\", \\\n",
    "                             num_iterations = 10)\n",
    "\n",
    "# Generate the boosted LTR pipeline\n",
    "Lmart_l_pip = Rf_pipe >> pt.ltr.apply_learned_model(Lmart_l_map, \\\n",
    "                                                    form=\"ltr\")\n",
    "\n",
    "# Execute the boosted LTR pipeline\n",
    "Lmart_l_pip.fit(train_topics, \\\n",
    "                train_qrels, \\\n",
    "                valid_topics, \\\n",
    "                valid_qrels)"
   ]
  },
  {
   "cell_type": "markdown",
   "metadata": {
    "id": "9VuCswFs2OCw"
   },
   "source": [
    "- **Step 3 :**  Experimenting with my regressors"
   ]
  },
  {
   "cell_type": "code",
   "execution_count": 33,
   "metadata": {
    "id": "-Z6bn5Mi2gOs"
   },
   "outputs": [],
   "source": [
    "# Write my names resultats\n",
    "Result_list : list = [\"BM25 Baseline\", \\\n",
    "                      \"LambdaMART (xgBoost)\", \\\n",
    "                      \"LambdaMART (LightGBM)\" ]\n",
    "\n",
    "# Execute my experiment\n",
    "Res_LTR_Map = pt.Experiment([Pipeline, Lmart_x_pip, Lmart_l_pip], \\\n",
    "                            test_topics, \\\n",
    "                            Qrels_bis, \\\n",
    "                            [\"map\"], \\\n",
    "                            names = Result_list)"
   ]
  },
  {
   "cell_type": "markdown",
   "metadata": {
    "id": "6MLV1PBZ4PaJ"
   },
   "source": [
    "- **Step 4 :** Drop the BM25 Baseline row to compare both LambdaMART techniques"
   ]
  },
  {
   "cell_type": "code",
   "execution_count": 34,
   "metadata": {
    "id": "y7pewfXaZIY9"
   },
   "outputs": [],
   "source": [
    "Res_LTR_Map = Res_LTR_Map[Res_LTR_Map.name != 'BM25 Baseline']"
   ]
  },
  {
   "cell_type": "markdown",
   "metadata": {
    "id": "0pYjRF184QO3"
   },
   "source": [
    "- **Step 5 :** Print best LambdaMART techniques and its MAP value"
   ]
  },
  {
   "cell_type": "code",
   "execution_count": 35,
   "metadata": {
    "colab": {
     "base_uri": "https://localhost:8080/"
    },
    "id": "2GXpFhTZZ131",
    "outputId": "19d59ba7-4374-4b86-a198-84158b21c9cc"
   },
   "outputs": [
    {
     "data": {
      "text/plain": [
       "name    LambdaMART (LightGBM)\n",
       "map                 0.0260612\n",
       "Name: 2, dtype: object"
      ]
     },
     "execution_count": 35,
     "metadata": {
      "tags": []
     },
     "output_type": "execute_result"
    }
   ],
   "source": [
    "Best_map_gra = Res_LTR_Map.iloc[Res_LTR_Map['map'].idxmax()]\n",
    "\n",
    "# To show results\n",
    "Best_map_gra"
   ]
  },
  {
   "cell_type": "markdown",
   "metadata": {
    "id": "gvXM1n-03uhl"
   },
   "source": [
    "#### Method 2 : Using my `NDCG` Metric"
   ]
  },
  {
   "cell_type": "markdown",
   "metadata": {
    "id": "CQdPueK452IO"
   },
   "source": [
    "- **Step 1 :** Build a XGBoost regressor"
   ]
  },
  {
   "cell_type": "code",
   "execution_count": 42,
   "metadata": {
    "id": "SFJyQPbe6P-h"
   },
   "outputs": [],
   "source": [
    "# Set the XGBoost parameters for ndcg metric\n",
    "Lmart_x_ndcg = xgb.sklearn.XGBRanker(objective = 'rank:ndcg', \\\n",
    "                                     learning_rate = 0.1, \\\n",
    "                                     gamma = 1.0, \\\n",
    "                                     min_child_weight = 0.1, \\\n",
    "                                     max_depth = 6, \\\n",
    "                                     verbose = 2, \\\n",
    "                                     random_state = 42)\n",
    "\n",
    "# Generate the boosted LTR pipeline \n",
    "Lmart_x_pip = Rf_pipe >> pt.ltr.apply_learned_model(Lmart_x_ndcg, \\\n",
    "                                                    form = \"ltr\")\n",
    "\n",
    "# Execute the boosted LTR pipeline\n",
    "Lmart_x_pip.fit(train_topics, \\\n",
    "                train_qrels, \\\n",
    "                valid_topics, \\\n",
    "                valid_qrels)"
   ]
  },
  {
   "cell_type": "markdown",
   "metadata": {
    "id": "AVFpQSZu527x"
   },
   "source": [
    "- **Step 2 :** Build a LightGBM regressor"
   ]
  },
  {
   "cell_type": "code",
   "execution_count": 43,
   "metadata": {
    "colab": {
     "base_uri": "https://localhost:8080/"
    },
    "id": "kP64KHZg6QdH",
    "outputId": "e2bb4ff8-6ce2-42a1-ae11-45144c2fe0f2"
   },
   "outputs": [
    {
     "name": "stderr",
     "output_type": "stream",
     "text": [
      "/usr/local/lib/python3.6/dist-packages/lightgbm/engine.py:118: UserWarning: Found `num_iterations` in params. Will use it instead of argument\n",
      "  warnings.warn(\"Found `{}` in params. Will use it instead of argument\".format(alias))\n"
     ]
    },
    {
     "name": "stdout",
     "output_type": "stream",
     "text": [
      "[1]\tvalid_0's ndcg@1: 0\n",
      "[2]\tvalid_0's ndcg@1: 0\n",
      "[3]\tvalid_0's ndcg@1: 0\n",
      "[4]\tvalid_0's ndcg@1: 0\n",
      "[5]\tvalid_0's ndcg@1: 0\n",
      "[6]\tvalid_0's ndcg@1: 0\n",
      "[7]\tvalid_0's ndcg@1: 0\n",
      "[8]\tvalid_0's ndcg@1: 0\n",
      "[9]\tvalid_0's ndcg@1: 0\n",
      "[10]\tvalid_0's ndcg@1: 0\n"
     ]
    }
   ],
   "source": [
    "# Set the LightGBM parameters\n",
    "Lmart_l_ndcg = lgb.LGBMRanker(task = \"train\", \\\n",
    "                              min_data_in_leaf = 1, \\\n",
    "                              min_sum_hessian_in_leaf = 100, \\\n",
    "                              max_bin = 255, \\\n",
    "                              num_leaves = 7, \\\n",
    "                              objective = \"lambdarank\", \\\n",
    "                              metric = \"ndcg\", \\\n",
    "                              ndcg_eval_at = [1, 3, 5, 10], \\\n",
    "                              learning_rate = 0.1, \\\n",
    "                              importance_type = \"gain\", \\\n",
    "                              num_iterations = 10)\n",
    "\n",
    "# Generate the boosted LTR pipeline\n",
    "Lmart_l_pip = Rf_pipe >> pt.ltr.apply_learned_model(Lmart_l_ndcg, \\\n",
    "                                                    form = \"ltr\")\n",
    "\n",
    "# Execute the boosted LTR pipeline\n",
    "Lmart_l_pip.fit(train_topics, \\\n",
    "                train_qrels, \\\n",
    "                valid_topics, \\\n",
    "                valid_qrels)"
   ]
  },
  {
   "cell_type": "markdown",
   "metadata": {
    "id": "vsdIkKu952_z"
   },
   "source": [
    "- **Step 3 :**  Experimenting with my regressors"
   ]
  },
  {
   "cell_type": "code",
   "execution_count": 45,
   "metadata": {
    "id": "QfKfCYo86REW"
   },
   "outputs": [],
   "source": [
    "# Write my names resultats\n",
    "Result_list : list = [\"BM25 Baseline\", \\\n",
    "                      \"LambdaMART (xgBoost)\", \\\n",
    "                      \"LambdaMART (LightGBM)\" ]\n",
    "\n",
    "# Execute my experiment\n",
    "Res_LTR_Ndcg = pt.Experiment([Pipeline, Lmart_x_pip, Lmart_l_pip], \\\n",
    "                             test_topics, \\\n",
    "                             Qrels_bis, \\\n",
    "                             [\"ndcg\"], \\\n",
    "                             names = Result_list )"
   ]
  },
  {
   "cell_type": "markdown",
   "metadata": {
    "id": "t04bHxmK53Ck"
   },
   "source": [
    "- **Step 4 :** Drop the BM25 Baseline row to compare both LambdaMART techniques"
   ]
  },
  {
   "cell_type": "code",
   "execution_count": 46,
   "metadata": {
    "id": "7tt7wHhqYHI0"
   },
   "outputs": [],
   "source": [
    "Res_LTR_Ndcg = Res_LTR_Ndcg[Res_LTR_Ndcg.name != 'BM25 Baseline']"
   ]
  },
  {
   "cell_type": "markdown",
   "metadata": {
    "id": "Bw6eSXTE53TA"
   },
   "source": [
    "- **Step 5 :** Print best LambdaMART techniques and its NDCG value"
   ]
  },
  {
   "cell_type": "code",
   "execution_count": 47,
   "metadata": {
    "colab": {
     "base_uri": "https://localhost:8080/"
    },
    "id": "ay63MZSNa19G",
    "outputId": "13e5c86f-1a54-4f6b-9bd0-839a97a7c390"
   },
   "outputs": [
    {
     "data": {
      "text/plain": [
       "name    LambdaMART (LightGBM)\n",
       "ndcg                  0.29242\n",
       "Name: 2, dtype: object"
      ]
     },
     "execution_count": 47,
     "metadata": {
      "tags": []
     },
     "output_type": "execute_result"
    }
   ],
   "source": [
    "Best_Ndcg_gra = Res_LTR_Ndcg.iloc[Res_LTR_Ndcg['ndcg'].idxmax()]\n",
    "Best_Ndcg_gra"
   ]
  }
 ],
 "metadata": {
  "colab": {
   "collapsed_sections": [],
   "name": "g8_generate_qrels_v0.ipynb",
   "provenance": [],
   "toc_visible": true
  },
  "kernelspec": {
   "display_name": "Python 3",
   "language": "python",
   "name": "python3"
  },
  "language_info": {
   "codemirror_mode": {
    "name": "ipython",
    "version": 3
   },
   "file_extension": ".py",
   "mimetype": "text/x-python",
   "name": "python",
   "nbconvert_exporter": "python",
   "pygments_lexer": "ipython3",
   "version": "3.6.9"
  }
 },
 "nbformat": 4,
 "nbformat_minor": 1
}
